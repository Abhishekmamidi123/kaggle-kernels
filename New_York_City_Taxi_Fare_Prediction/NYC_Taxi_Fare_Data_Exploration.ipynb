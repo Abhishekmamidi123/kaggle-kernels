{
  "cells": [
    {
      "metadata": {
        "_uuid": "8f2839f25d086af736a60e9eeb907d3b93b6e0e5",
        "_cell_guid": "b1076dfc-b9ad-4769-8c92-a6c4dae69d19",
        "trusted": true
      },
      "cell_type": "code",
      "source": "import numpy as np # linear algebra\nimport pandas as pd # data processing, CSV file I/O (e.g. pd.read_csv)\n\n\nimport os\nprint(os.listdir(\"../input\"))",
      "execution_count": 2,
      "outputs": [
        {
          "output_type": "stream",
          "text": "['GCP-Coupons-Instructions.rtf', 'train.csv', 'sample_submission.csv', 'test.csv']\n",
          "name": "stdout"
        }
      ]
    },
    {
      "metadata": {
        "_uuid": "b8121ff535963c3963ca12ae8862414f4e61898d"
      },
      "cell_type": "markdown",
      "source": "### Path to the dataset"
    },
    {
      "metadata": {
        "trusted": true,
        "_uuid": "27a66a40179b678226aae5990118f7c5a3f6fd85"
      },
      "cell_type": "code",
      "source": "PATH = '../input/'",
      "execution_count": 3,
      "outputs": []
    },
    {
      "metadata": {
        "_uuid": "c7a6565478980890cd2df1245eaf635e5e4fa819"
      },
      "cell_type": "markdown",
      "source": "### Read data\n- I have tried reading 50 million rows, but I am getting an error \"Kernel has died\". So, I decided to create this kernel only on first 5 million rows."
    },
    {
      "metadata": {
        "_cell_guid": "79c7e3d0-c299-4dcb-8224-4455121ee9b0",
        "_uuid": "d629ff2d2480ee46fbb7e2d37f6b5fab8052498a",
        "trusted": true
      },
      "cell_type": "code",
      "source": "train_data = pd.read_csv(PATH + 'train.csv', nrows=5000000)",
      "execution_count": 4,
      "outputs": []
    },
    {
      "metadata": {
        "trusted": true,
        "_uuid": "27b88c6648a016013a8accfe13e9a8796cecffc5"
      },
      "cell_type": "code",
      "source": "train_data.head()",
      "execution_count": 5,
      "outputs": [
        {
          "output_type": "execute_result",
          "execution_count": 5,
          "data": {
            "text/plain": "                             key       ...         passenger_count\n0    2009-06-15 17:26:21.0000001       ...                       1\n1    2010-01-05 16:52:16.0000002       ...                       1\n2   2011-08-18 00:35:00.00000049       ...                       2\n3    2012-04-21 04:30:42.0000001       ...                       1\n4  2010-03-09 07:51:00.000000135       ...                       1\n\n[5 rows x 8 columns]",
            "text/html": "<div>\n<style scoped>\n    .dataframe tbody tr th:only-of-type {\n        vertical-align: middle;\n    }\n\n    .dataframe tbody tr th {\n        vertical-align: top;\n    }\n\n    .dataframe thead th {\n        text-align: right;\n    }\n</style>\n<table border=\"1\" class=\"dataframe\">\n  <thead>\n    <tr style=\"text-align: right;\">\n      <th></th>\n      <th>key</th>\n      <th>fare_amount</th>\n      <th>pickup_datetime</th>\n      <th>pickup_longitude</th>\n      <th>pickup_latitude</th>\n      <th>dropoff_longitude</th>\n      <th>dropoff_latitude</th>\n      <th>passenger_count</th>\n    </tr>\n  </thead>\n  <tbody>\n    <tr>\n      <th>0</th>\n      <td>2009-06-15 17:26:21.0000001</td>\n      <td>4.5</td>\n      <td>2009-06-15 17:26:21 UTC</td>\n      <td>-73.844311</td>\n      <td>40.721319</td>\n      <td>-73.841610</td>\n      <td>40.712278</td>\n      <td>1</td>\n    </tr>\n    <tr>\n      <th>1</th>\n      <td>2010-01-05 16:52:16.0000002</td>\n      <td>16.9</td>\n      <td>2010-01-05 16:52:16 UTC</td>\n      <td>-74.016048</td>\n      <td>40.711303</td>\n      <td>-73.979268</td>\n      <td>40.782004</td>\n      <td>1</td>\n    </tr>\n    <tr>\n      <th>2</th>\n      <td>2011-08-18 00:35:00.00000049</td>\n      <td>5.7</td>\n      <td>2011-08-18 00:35:00 UTC</td>\n      <td>-73.982738</td>\n      <td>40.761270</td>\n      <td>-73.991242</td>\n      <td>40.750562</td>\n      <td>2</td>\n    </tr>\n    <tr>\n      <th>3</th>\n      <td>2012-04-21 04:30:42.0000001</td>\n      <td>7.7</td>\n      <td>2012-04-21 04:30:42 UTC</td>\n      <td>-73.987130</td>\n      <td>40.733143</td>\n      <td>-73.991567</td>\n      <td>40.758092</td>\n      <td>1</td>\n    </tr>\n    <tr>\n      <th>4</th>\n      <td>2010-03-09 07:51:00.000000135</td>\n      <td>5.3</td>\n      <td>2010-03-09 07:51:00 UTC</td>\n      <td>-73.968095</td>\n      <td>40.768008</td>\n      <td>-73.956655</td>\n      <td>40.783762</td>\n      <td>1</td>\n    </tr>\n  </tbody>\n</table>\n</div>"
          },
          "metadata": {}
        }
      ]
    },
    {
      "metadata": {
        "_uuid": "96ef24c282e5157831bea36331cf742748b4750b"
      },
      "cell_type": "markdown",
      "source": "### Describe data"
    },
    {
      "metadata": {
        "trusted": true,
        "_uuid": "d860f52ab84abc22f50950f67cd07e212cced41a"
      },
      "cell_type": "code",
      "source": "train_data.describe()",
      "execution_count": 18,
      "outputs": [
        {
          "output_type": "execute_result",
          "execution_count": 18,
          "data": {
            "text/plain": "        fare_amount       ...         passenger_count\ncount  5.000000e+06       ...            5.000000e+06\nmean   1.134080e+01       ...            1.684695e+00\nstd    9.820175e+00       ...            1.331854e+00\nmin   -1.000000e+02       ...            0.000000e+00\n25%    6.000000e+00       ...            1.000000e+00\n50%    8.500000e+00       ...            1.000000e+00\n75%    1.250000e+01       ...            2.000000e+00\nmax    1.273310e+03       ...            2.080000e+02\n\n[8 rows x 6 columns]",
            "text/html": "<div>\n<style scoped>\n    .dataframe tbody tr th:only-of-type {\n        vertical-align: middle;\n    }\n\n    .dataframe tbody tr th {\n        vertical-align: top;\n    }\n\n    .dataframe thead th {\n        text-align: right;\n    }\n</style>\n<table border=\"1\" class=\"dataframe\">\n  <thead>\n    <tr style=\"text-align: right;\">\n      <th></th>\n      <th>fare_amount</th>\n      <th>pickup_longitude</th>\n      <th>pickup_latitude</th>\n      <th>dropoff_longitude</th>\n      <th>dropoff_latitude</th>\n      <th>passenger_count</th>\n    </tr>\n  </thead>\n  <tbody>\n    <tr>\n      <th>count</th>\n      <td>5.000000e+06</td>\n      <td>5.000000e+06</td>\n      <td>5.000000e+06</td>\n      <td>4.999964e+06</td>\n      <td>4.999964e+06</td>\n      <td>5.000000e+06</td>\n    </tr>\n    <tr>\n      <th>mean</th>\n      <td>1.134080e+01</td>\n      <td>-7.250678e+01</td>\n      <td>3.991974e+01</td>\n      <td>-7.250652e+01</td>\n      <td>3.991725e+01</td>\n      <td>1.684695e+00</td>\n    </tr>\n    <tr>\n      <th>std</th>\n      <td>9.820175e+00</td>\n      <td>1.280970e+01</td>\n      <td>8.963509e+00</td>\n      <td>1.284777e+01</td>\n      <td>9.486767e+00</td>\n      <td>1.331854e+00</td>\n    </tr>\n    <tr>\n      <th>min</th>\n      <td>-1.000000e+02</td>\n      <td>-3.426609e+03</td>\n      <td>-3.488080e+03</td>\n      <td>-3.412653e+03</td>\n      <td>-3.488080e+03</td>\n      <td>0.000000e+00</td>\n    </tr>\n    <tr>\n      <th>25%</th>\n      <td>6.000000e+00</td>\n      <td>-7.399206e+01</td>\n      <td>4.073491e+01</td>\n      <td>-7.399139e+01</td>\n      <td>4.073404e+01</td>\n      <td>1.000000e+00</td>\n    </tr>\n    <tr>\n      <th>50%</th>\n      <td>8.500000e+00</td>\n      <td>-7.398181e+01</td>\n      <td>4.075263e+01</td>\n      <td>-7.398016e+01</td>\n      <td>4.075315e+01</td>\n      <td>1.000000e+00</td>\n    </tr>\n    <tr>\n      <th>75%</th>\n      <td>1.250000e+01</td>\n      <td>-7.396711e+01</td>\n      <td>4.076712e+01</td>\n      <td>-7.396367e+01</td>\n      <td>4.076811e+01</td>\n      <td>2.000000e+00</td>\n    </tr>\n    <tr>\n      <th>max</th>\n      <td>1.273310e+03</td>\n      <td>3.439426e+03</td>\n      <td>3.310364e+03</td>\n      <td>3.457622e+03</td>\n      <td>3.345917e+03</td>\n      <td>2.080000e+02</td>\n    </tr>\n  </tbody>\n</table>\n</div>"
          },
          "metadata": {}
        }
      ]
    },
    {
      "metadata": {
        "_uuid": "3f6941b65141745255a19d799617c04e5725bd43"
      },
      "cell_type": "markdown",
      "source": "### Passenger count\n- As we see, The passenger count with 7, 9, 51, 129 and 208 are very less(~1 to 7) when compared to other passenger counts."
    },
    {
      "metadata": {
        "trusted": true,
        "_uuid": "2277791d20d05cd52ec4c74cca4b4c266e65c808"
      },
      "cell_type": "code",
      "source": "train_data.passenger_count.value_counts().plot('bar')",
      "execution_count": null,
      "outputs": [
        {
          "output_type": "execute_result",
          "execution_count": 22,
          "data": {
            "text/plain": "<matplotlib.axes._subplots.AxesSubplot at 0x7fc0ec597400>"
          },
          "metadata": {}
        }
      ]
    },
    {
      "metadata": {
        "trusted": true,
        "_uuid": "706d3fd57d067c231d72e82d8ddedc2536b65784"
      },
      "cell_type": "code",
      "source": "",
      "execution_count": null,
      "outputs": []
    }
  ],
  "metadata": {
    "kernelspec": {
      "display_name": "Python 3",
      "language": "python",
      "name": "python3"
    },
    "language_info": {
      "name": "python",
      "version": "3.6.6",
      "mimetype": "text/x-python",
      "codemirror_mode": {
        "name": "ipython",
        "version": 3
      },
      "pygments_lexer": "ipython3",
      "nbconvert_exporter": "python",
      "file_extension": ".py"
    }
  },
  "nbformat": 4,
  "nbformat_minor": 1
}